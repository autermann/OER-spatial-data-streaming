{
 "cells": [
  {
   "cell_type": "markdown",
   "metadata": {},
   "source": [
    "# 3.3 Sending a PM2.5 data stream to the Kafka broker (Step-2)\n",
    "\n",
    "This Jupyter Notebook will be used as a producer application for our Kafka workflow. We will use the CSV file generated in the previous step and send each data record as a message to the kafka broker."
   ]
  },
  {
   "cell_type": "code",
   "execution_count": null,
   "metadata": {},
   "outputs": [],
   "source": [
    "## Import Libraries\n",
    "import pandas as pd # to handle tabular data\n",
    "import json # to handle data operations in json format\n",
    "from confluent_kafka import Producer # Kafka producer library to enable streaming functionalities\n",
    "import socket # to get network properties for kafka communication"
   ]
  },
  {
   "cell_type": "code",
   "execution_count": null,
   "metadata": {},
   "outputs": [],
   "source": [
    "def acked(err, msg):\n",
    "\n",
    "    '''\n",
    "    This function handles callback for Kafka Producer. It handles the error/success messages\n",
    "    '''\n",
    "    \n",
    "    if err is not None:\n",
    "        print(\"Failed to deliver message: %s: %s\" % (str(msg.value()), str(err)))\n",
    "    else:\n",
    "        print(\"Message produced: %s\" % (str(msg.value())))"
   ]
  },
  {
   "cell_type": "markdown",
   "metadata": {},
   "source": [
    "The next section runs in the following order:\n",
    "\n",
    "1. Initialise variables: CSV filepath and topic name\n",
    "2. Topic: Every Kafka message should be associated to a kafka topic, it can be named anything\n",
    "3. conf: Init Kafka server with IP:Port"
   ]
  },
  {
   "cell_type": "code",
   "execution_count": null,
   "metadata": {},
   "outputs": [],
   "source": [
    "topic = \"pm25_stream\"\n",
    "p_key = \"../data/sample_multilocation.csv\""
   ]
  },
  {
   "cell_type": "code",
   "execution_count": null,
   "metadata": {},
   "outputs": [],
   "source": [
    "### START: AVOID MAKING CHANGES ###\n",
    "\n",
    "### This section defines how to connect to the Kafka server the configuration\n",
    "### of which is defined in the docker file. Changing this section including port numbers\n",
    "### or other variables can result in broken kafka connection and the data cannot be streamed then\n",
    "\n",
    "conf = {'bootstrap.servers': \"kafka:9093\", 'client.id': socket.gethostname()}\n",
    "producer = Producer(conf)\n",
    "\n",
    "### END: AVOID MAKING CHANGES ###"
   ]
  },
  {
   "cell_type": "code",
   "execution_count": null,
   "metadata": {},
   "outputs": [],
   "source": [
    "# Read CSV using Pandas\n",
    "df = pd.read_csv(p_key)"
   ]
  },
  {
   "cell_type": "code",
   "execution_count": null,
   "metadata": {},
   "outputs": [],
   "source": [
    "# Init For Loop for number of records in CSV file\n",
    "for i in range(df.shape[0]): ## df.shape returns dimension of the dataframe (rows, columns)\n",
    "\n",
    "    result = {} ## Init Dict\n",
    "    result[df.loc[i,'value']] = [df.loc[i,'lat'], df.loc[i,'lon'], str(df.loc[i,'day']), df.loc[i,'boxId']]\n",
    "\n",
    "    '''\n",
    "    Format of result JSON:\n",
    "\n",
    "    {\n",
    "        'pm25_value_1': [lat, lon, day, boxId]\n",
    "    }\n",
    "    '''\n",
    "\n",
    "    # Store as JSON as Kafka supports JSON transmission as standard\n",
    "    result = json.dumps(result)\n",
    "    \n",
    "    ## Key is optional, used to categorize messages by partition, in this case all messages get the same partition name. \n",
    "    ## Is Mostly used for scalability \n",
    "\n",
    "    producer.produce(topic, key=p_key, value=result, callback=acked) ## Message is stored in broker memory at this point\n",
    "\n",
    "    ## Complete the sending of message from buffer (broker memory) and get an acknowledgement\n",
    "    producer.flush()"
   ]
  },
  {
   "cell_type": "markdown",
   "metadata": {},
   "source": [
    "# KAFKA CONSUMER\n",
    "\n",
    "At this point you should have successfully streamed the downloaded data into the kafka broker where it is currently stored in a temporary file."
   ]
  },
  {
   "cell_type": "markdown",
   "metadata": {},
   "source": [
    "#### END STEP - 2"
   ]
  }
 ],
 "metadata": {
  "kernelspec": {
   "display_name": "Python 3 (ipykernel)",
   "language": "python",
   "name": "python3"
  },
  "language_info": {
   "codemirror_mode": {
    "name": "ipython",
    "version": 3
   },
   "file_extension": ".py",
   "mimetype": "text/x-python",
   "name": "python",
   "nbconvert_exporter": "python",
   "pygments_lexer": "ipython3",
   "version": "3.9.5"
  }
 },
 "nbformat": 4,
 "nbformat_minor": 2
}
