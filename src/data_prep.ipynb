{
 "cells": [
  {
   "cell_type": "markdown",
   "id": "9f021cd5",
   "metadata": {},
   "source": [
    "# OpenSenseMap API: Data Downloading"
   ]
  },
  {
   "cell_type": "markdown",
   "id": "527e2779",
   "metadata": {},
   "source": [
    "In this notebook you will learn how to pull data from https://opensensemap.org/ using it's API (https://docs.opensensemap.org/). Using ipyleaflet extension you'll also be able to perform interactive GIS actions and customize the kind of data you want to download.\n",
    "\n",
    "You'll need to perform the following 4 tasks to be able to successfully download the data into a CSV file:\n",
    "\n",
    "1. Find the lat/lon value from Google Maps for the region of Münster, Germany \n",
    "2. Draw/Edit the (Area of Interest) AOI Over Münster, Germany\n",
    "3. Limit the spatial extent of API to your BBOX coordinates \n",
    "4. Fetch PM2.5 readings for 7 days, starting from **15 Jan, 22**"
   ]
  },
  {
   "cell_type": "code",
   "execution_count": 1,
   "id": "cb9e2afe-77d3-4dfe-a4b9-97eaec42cb16",
   "metadata": {},
   "outputs": [],
   "source": [
    "import requests, geojson\n",
    "from geojson import dump\n",
    "import pandas as pd\n",
    "from ipyleaflet import Map, basemaps, WidgetControl, Marker, basemap_to_tiles, DrawControl, GeoJSON\n",
    "from ipywidgets import IntSlider, ColorPicker, jslink\n",
    "import geopandas as gpd"
   ]
  },
  {
   "cell_type": "code",
   "execution_count": 2,
   "id": "970467e9-2303-42b3-98a5-255f125c4caa",
   "metadata": {},
   "outputs": [],
   "source": [
    "## ENDPOINTS DEFINITION ##\n",
    "\n",
    "phenomenon = \"PM2.5\"\n",
    "sensebox_url = \"https://api.opensensemap.org/boxes?\"\n",
    "sensebox_data_url = \"https://api.opensensemap.org/statistics/descriptive?\""
   ]
  },
  {
   "cell_type": "markdown",
   "id": "a0561878",
   "metadata": {},
   "source": [
    "### Load Map Widget\n",
    "\n",
    "Run the following cell to visualise/test the map widget. The current center of map is [0,0]"
   ]
  },
  {
   "cell_type": "code",
   "execution_count": 3,
   "id": "39cdd463",
   "metadata": {
    "scrolled": false
   },
   "outputs": [
    {
     "data": {
      "application/vnd.jupyter.widget-view+json": {
       "model_id": "5feab9489eed415faf3a7b6fbee261d4",
       "version_major": 2,
       "version_minor": 0
      },
      "text/plain": [
       "Map(center=[0, 0], controls=(ZoomControl(options=['position', 'zoom_in_text', 'zoom_in_title', 'zoom_out_text'…"
      ]
     },
     "metadata": {},
     "output_type": "display_data"
    }
   ],
   "source": [
    "center = (0, 0)\n",
    "\n",
    "m = Map(center=center, zoom=15)\n",
    "marker = Marker(location=center, draggable=True)\n",
    "m.add_layer(marker);\n",
    "display(m)"
   ]
  },
  {
   "cell_type": "markdown",
   "id": "f04cf3ac",
   "metadata": {},
   "source": [
    "**Question:**\n",
    "Do you know the name given to this point of zero degrees latitude and zero degrees longitude, i.e., where the prime meridian and the equator intersect?"
   ]
  },
  {
   "cell_type": "markdown",
   "id": "a0593096",
   "metadata": {},
   "source": [
    "### TASK 1: Find the lat/lon value from Google Maps for the region of Münster, Germany\n",
    "\n",
    "Head over to https://maps.google.com/. Search or locate to \"Münster, Germany\". Now, from the **url** in your browser, find the lat/lon values. \n",
    "\n",
    "*Hint: It should start with \"@xx.xxxxxxx,xx.xxxxxxx\"*\n",
    "\n",
    "Copy the two numbers and use it to center the map"
   ]
  },
  {
   "cell_type": "code",
   "execution_count": 4,
   "id": "3abc973f",
   "metadata": {},
   "outputs": [
    {
     "data": {
      "application/vnd.jupyter.widget-view+json": {
       "model_id": "c9d6ab92c4034478a3b6d5d14143f476",
       "version_major": 2,
       "version_minor": 0
      },
      "text/plain": [
       "Map(center=[51.9500023, 7.4840147], controls=(ZoomControl(options=['position', 'zoom_in_text', 'zoom_in_title'…"
      ]
     },
     "metadata": {},
     "output_type": "display_data"
    }
   ],
   "source": [
    "lat = \n",
    "lng = \n",
    "\n",
    "center = (lat, lng)\n",
    "\n",
    "m = Map(center=center, zoom=11)\n",
    "marker = Marker(location=center, draggable=True)\n",
    "display(m)"
   ]
  },
  {
   "cell_type": "markdown",
   "id": "b5ae043d",
   "metadata": {},
   "source": [
    "### TASK 2: Draw/Edit the (Area of Interest) AOI Over Münster, Germany\n",
    "\n",
    "Our objective is to capture PM2.5 sensors installed in Münster.\n",
    "Make sure you cover as much of Münster you can but not too big to slow down the API!"
   ]
  },
  {
   "cell_type": "code",
   "execution_count": 5,
   "id": "bc291ebc",
   "metadata": {},
   "outputs": [],
   "source": [
    "## Function to save AOI as GeoJSON\n",
    "\n",
    "feature_collection = {\n",
    "    'type': 'FeatureCollection',\n",
    "    'features': []\n",
    "}\n",
    "\n",
    "def handle_draw(self, action, geo_json):    \n",
    "    feature_collection['features'].append(geo_json)"
   ]
  },
  {
   "cell_type": "code",
   "execution_count": 6,
   "id": "d0f842b9",
   "metadata": {},
   "outputs": [
    {
     "data": {
      "application/vnd.jupyter.widget-view+json": {
       "model_id": "7ba10fa57a9b433a815de8e86d3b1e4b",
       "version_major": 2,
       "version_minor": 0
      },
      "text/plain": [
       "Map(center=[51.9500023, 7.4840147], controls=(ZoomControl(options=['position', 'zoom_in_text', 'zoom_in_title'…"
      ]
     },
     "metadata": {},
     "output_type": "display_data"
    }
   ],
   "source": [
    "## Configure draw properties on map\n",
    "\n",
    "draw_control = DrawControl()\n",
    "draw_control.rectangle = {\n",
    "    \"shapeOptions\": {\n",
    "        \"fillColor\": \"#fca45d\",\n",
    "        \"color\": \"#fca45d\",\n",
    "        \"fillOpacity\": 0.5\n",
    "    }\n",
    "}\n",
    "\n",
    "center = (lat, lng)\n",
    "\n",
    "m = Map(center=center, zoom=11)\n",
    "marker = Marker(location=center, draggable=True)\n",
    "\n",
    "m.add_control(draw_control)\n",
    "\n",
    "draw_control.on_draw(handle_draw)\n",
    "display(m)\n"
   ]
  },
  {
   "cell_type": "code",
   "execution_count": 7,
   "id": "57ae64f0",
   "metadata": {
    "scrolled": false
   },
   "outputs": [
    {
     "data": {
      "application/vnd.jupyter.widget-view+json": {
       "model_id": "88f11fc956254f198639c0515e260e0e",
       "version_major": 2,
       "version_minor": 0
      },
      "text/plain": [
       "Map(center=[51.9500023, 7.4840147], controls=(ZoomControl(options=['position', 'zoom_in_text', 'zoom_in_title'…"
      ]
     },
     "metadata": {},
     "output_type": "display_data"
    }
   ],
   "source": [
    "## Save and display your GeoJSON\n",
    "\n",
    "munster_aoi = feature_collection\n",
    "\n",
    "center = (lat, lng)\n",
    "\n",
    "m = Map(center=center, zoom=11)\n",
    "marker = Marker(location=center, draggable=True)\n",
    "\n",
    "geo_json = GeoJSON(\n",
    "    data=munster_aoi,\n",
    "    style={\n",
    "        'opacity': 1, 'dashArray': '9', 'fillOpacity': 0.4, 'weight': 1, 'fillColor': '#fca45d'\n",
    "    }\n",
    ")\n",
    "\n",
    "m.add_layer(geo_json)\n",
    "display(m)"
   ]
  },
  {
   "cell_type": "code",
   "execution_count": 8,
   "id": "9a3e07da",
   "metadata": {},
   "outputs": [],
   "source": [
    "## Save the GeoJSON\n",
    "\n",
    "with open('../data/aoi_opensensemap.geojson', 'w') as f:\n",
    "    dump(munster_aoi, f)"
   ]
  },
  {
   "cell_type": "code",
   "execution_count": 9,
   "id": "f0dc58f0",
   "metadata": {},
   "outputs": [],
   "source": [
    "## Get the Bounding Box Coordinates of AOI\n",
    "\n",
    "gdf = gpd.read_file('../data/aoi_opensensemap.geojson')\n",
    "munster_bbox = map(str, gdf.total_bounds)"
   ]
  },
  {
   "cell_type": "markdown",
   "id": "4f199815-9a16-4cf8-a19e-0e57e4186713",
   "metadata": {},
   "source": [
    "### Get Senseboxes Installed in Münster, Germany"
   ]
  },
  {
   "cell_type": "code",
   "execution_count": 10,
   "id": "281ddc74-4a21-478e-b642-208734133f3e",
   "metadata": {},
   "outputs": [],
   "source": [
    "## Convert bbox coordinates to string representation\n",
    "geometry = map(str, munster_bbox)"
   ]
  },
  {
   "cell_type": "code",
   "execution_count": 11,
   "id": "13f4fd86-15a5-4885-b0a1-90ede4ea4012",
   "metadata": {},
   "outputs": [],
   "source": [
    "## DEFINE PARAMETERS ##\n",
    "\n",
    "from_date = \"2020-01-01T00:00:00.000Z\"\n",
    "bbox_geometry = ','.join(geometry)"
   ]
  },
  {
   "cell_type": "markdown",
   "id": "6141d55d",
   "metadata": {},
   "source": [
    "### TASK 3: Limit the spatial extent of API to your BBOX coordinates\n",
    "\n",
    "Add the bbox parameter after \"+\" sign"
   ]
  },
  {
   "cell_type": "code",
   "execution_count": 12,
   "id": "f73fbdbb-37da-4c6b-ad1c-4e30079f1972",
   "metadata": {},
   "outputs": [],
   "source": [
    "sensebox_url_params = \"date=\"+from_date+\"&phenomenon=\"+phenomenon+\"&bbox=\"+"
   ]
  },
  {
   "cell_type": "code",
   "execution_count": 13,
   "id": "691d9a36",
   "metadata": {},
   "outputs": [
    {
     "data": {
      "text/plain": [
       "'https://api.opensensemap.org/boxes?date=2020-01-01T00:00:00.000Z&phenomenon=PM2.5&bbox=7.523121,51.875076,7.7573,52.018978'"
      ]
     },
     "execution_count": 13,
     "metadata": {},
     "output_type": "execute_result"
    }
   ],
   "source": [
    "## Define URL endpoint\n",
    "\n",
    "pull_senseboxes_url = sensebox_url+sensebox_url_params\n",
    "pull_senseboxes_url"
   ]
  },
  {
   "cell_type": "markdown",
   "id": "47feaa52",
   "metadata": {},
   "source": [
    "Final url should look something like this\n",
    "\n",
    "*https://api.opensensemap.org/boxes?date=2020-01-01T00:00:00.000Z&phenomenon=PM2.5&bbox=7.547844,51.907801,7.689313,51.999208*"
   ]
  },
  {
   "cell_type": "code",
   "execution_count": 15,
   "id": "3b810d26-05a4-4d4b-9ca2-ce5b07adde2e",
   "metadata": {},
   "outputs": [],
   "source": [
    "response = requests.get(pull_senseboxes_url)\n",
    "json_output = response.json()\n",
    "\n",
    "## We'll use only 7 senseboxes to limit the amount of data\n",
    "json_output = json_output[:7]"
   ]
  },
  {
   "cell_type": "code",
   "execution_count": 16,
   "id": "8679b202-bfdd-4dd6-8469-5efa051fa338",
   "metadata": {},
   "outputs": [],
   "source": [
    "senseboxes_list = []\n",
    "sensebox_coords = {}\n",
    "\n",
    "## Extract the IDs of the senseboxes\n",
    "\n",
    "for sensebox in json_output:\n",
    "    senseboxes_list.append(sensebox['_id'])\n",
    "    sensebox_coords[sensebox['_id']] = sensebox['loc'][0]['geometry']['coordinates']"
   ]
  },
  {
   "cell_type": "code",
   "execution_count": 17,
   "id": "57fda390-23ba-4ebe-84f6-41c71c15186c",
   "metadata": {},
   "outputs": [
    {
     "data": {
      "text/plain": [
       "['5750220bed08f9680c6b4154',\n",
       " '591f578c51d34600116a8ea5',\n",
       " '599180be7e280a001044b837',\n",
       " '59ad958fd67eb50011b85f6d',\n",
       " '59c67b5ed67eb50011666dbb',\n",
       " '5a0c15289fd3c200110f3d33',\n",
       " '5a0c2cc89fd3c200111118f0']"
      ]
     },
     "execution_count": 17,
     "metadata": {},
     "output_type": "execute_result"
    }
   ],
   "source": [
    "## Check the sensebox id numbers\n",
    "senseboxes_list"
   ]
  },
  {
   "cell_type": "code",
   "execution_count": 18,
   "id": "67cbe355",
   "metadata": {},
   "outputs": [
    {
     "data": {
      "text/html": [
       "<div>\n",
       "<style scoped>\n",
       "    .dataframe tbody tr th:only-of-type {\n",
       "        vertical-align: middle;\n",
       "    }\n",
       "\n",
       "    .dataframe tbody tr th {\n",
       "        vertical-align: top;\n",
       "    }\n",
       "\n",
       "    .dataframe thead th {\n",
       "        text-align: right;\n",
       "    }\n",
       "</style>\n",
       "<table border=\"1\" class=\"dataframe\">\n",
       "  <thead>\n",
       "    <tr style=\"text-align: right;\">\n",
       "      <th></th>\n",
       "      <th>sensorId</th>\n",
       "      <th>lon</th>\n",
       "      <th>lat</th>\n",
       "    </tr>\n",
       "  </thead>\n",
       "  <tbody>\n",
       "    <tr>\n",
       "      <th>0</th>\n",
       "      <td>5750220bed08f9680c6b4154</td>\n",
       "      <td>7.651169</td>\n",
       "      <td>51.956168</td>\n",
       "    </tr>\n",
       "    <tr>\n",
       "      <th>1</th>\n",
       "      <td>591f578c51d34600116a8ea5</td>\n",
       "      <td>7.645218</td>\n",
       "      <td>51.964220</td>\n",
       "    </tr>\n",
       "    <tr>\n",
       "      <th>2</th>\n",
       "      <td>599180be7e280a001044b837</td>\n",
       "      <td>7.684194</td>\n",
       "      <td>51.929339</td>\n",
       "    </tr>\n",
       "    <tr>\n",
       "      <th>3</th>\n",
       "      <td>59ad958fd67eb50011b85f6d</td>\n",
       "      <td>7.635283</td>\n",
       "      <td>51.903004</td>\n",
       "    </tr>\n",
       "    <tr>\n",
       "      <th>4</th>\n",
       "      <td>59c67b5ed67eb50011666dbb</td>\n",
       "      <td>7.626770</td>\n",
       "      <td>51.946322</td>\n",
       "    </tr>\n",
       "    <tr>\n",
       "      <th>5</th>\n",
       "      <td>5a0c15289fd3c200110f3d33</td>\n",
       "      <td>7.641463</td>\n",
       "      <td>51.953351</td>\n",
       "    </tr>\n",
       "    <tr>\n",
       "      <th>6</th>\n",
       "      <td>5a0c2cc89fd3c200111118f0</td>\n",
       "      <td>7.641426</td>\n",
       "      <td>51.960435</td>\n",
       "    </tr>\n",
       "  </tbody>\n",
       "</table>\n",
       "</div>"
      ],
      "text/plain": [
       "                   sensorId       lon        lat\n",
       "0  5750220bed08f9680c6b4154  7.651169  51.956168\n",
       "1  591f578c51d34600116a8ea5  7.645218  51.964220\n",
       "2  599180be7e280a001044b837  7.684194  51.929339\n",
       "3  59ad958fd67eb50011b85f6d  7.635283  51.903004\n",
       "4  59c67b5ed67eb50011666dbb  7.626770  51.946322\n",
       "5  5a0c15289fd3c200110f3d33  7.641463  51.953351\n",
       "6  5a0c2cc89fd3c200111118f0  7.641426  51.960435"
      ]
     },
     "execution_count": 18,
     "metadata": {},
     "output_type": "execute_result"
    }
   ],
   "source": [
    "## Check locations of senseboxes\n",
    "sensebox_coords = pd.DataFrame(sensebox_coords).T.reset_index()\n",
    "sensebox_coords.rename(columns={'index': 'sensorId', 0: 'lon', 1: 'lat'}, inplace=True)\n",
    "sensebox_coords"
   ]
  },
  {
   "cell_type": "markdown",
   "id": "9b104b14",
   "metadata": {},
   "source": [
    "### Get PM2.5 Sensor Readings for the 5 Senseboxes"
   ]
  },
  {
   "cell_type": "code",
   "execution_count": 19,
   "id": "fab13a6d-eca9-49b3-a2ea-300c0c45d5ad",
   "metadata": {},
   "outputs": [],
   "source": [
    "## Define parameters for the new endpoint\n",
    "\n",
    "senseboxes_list = ','.join(senseboxes_list)\n",
    "operation = \"arithmeticMean\" ## Perform a mean for all values in the duration of \"window\" timeframe\n",
    "window = \"90000000\" ## time in ms. Default: 25 hours\n",
    "output_format = \"tidy\" ## Clean CSV Format"
   ]
  },
  {
   "cell_type": "markdown",
   "id": "954a5260",
   "metadata": {},
   "source": [
    "### TASK 4: Fetch PM2.5 readings for 7 days, starting from 15 Jan, 22\n",
    "\n",
    "The format of timestamp should be in **RFC 3339** notation. For eg: *2015-01-22T00:00:00.000Z*\n",
    "\n",
    "Note: from_date and to_date is inclusive"
   ]
  },
  {
   "cell_type": "code",
   "execution_count": 20,
   "id": "0e6740a9",
   "metadata": {},
   "outputs": [],
   "source": [
    "from_date = \"\"\n",
    "to_date = \"\""
   ]
  },
  {
   "cell_type": "code",
   "execution_count": 21,
   "id": "8cb0e938-c1fb-49ae-a35b-8dd40538bcb6",
   "metadata": {},
   "outputs": [],
   "source": [
    "sensebox_data_url_params = \"boxId=\"+senseboxes_list+\"&from-date=\"+from_date+\"&to-date=\"+to_date+\"&phenomenon=\"+phenomenon+\"&operation=\"+operation+\"&window=\"+window+\"&format=\"+output_format+\"&columns=boxId,boxName,phenomenon,sensorType,unit\""
   ]
  },
  {
   "cell_type": "code",
   "execution_count": 22,
   "id": "5834aef4",
   "metadata": {},
   "outputs": [
    {
     "data": {
      "text/plain": [
       "'https://api.opensensemap.org/statistics/descriptive?boxId=5750220bed08f9680c6b4154,591f578c51d34600116a8ea5,599180be7e280a001044b837,59ad958fd67eb50011b85f6d,59c67b5ed67eb50011666dbb,5a0c15289fd3c200110f3d33,5a0c2cc89fd3c200111118f0&from-date=2022-01-15T00:00:00.000Z&to-date=2022-01-21T00:00:00.000Z&phenomenon=PM2.5&operation=arithmeticMean&window=90000000&format=tidy&columns=boxId,boxName,phenomenon,sensorType,unit'"
      ]
     },
     "execution_count": 22,
     "metadata": {},
     "output_type": "execute_result"
    }
   ],
   "source": [
    "## Define URL endpoint\n",
    "\n",
    "pull_readings_url = sensebox_data_url+sensebox_data_url_params\n",
    "pull_readings_url"
   ]
  },
  {
   "cell_type": "markdown",
   "id": "cdb2ffc5",
   "metadata": {},
   "source": [
    "Final url should look something like this\n",
    "\n",
    "https://api.opensensemap.org/statistics/descriptive?boxId=5750220bed08f9680c6b4154,591f578c51d34600116a8ea5,599180be7e280a001044b837,59c67b5ed67eb50011666dbb,5a0c15289fd3c200110f3d33&from-date=2022-01-15T00:00:00.000Z&to-date=2022-01-21T00:00:00.000Z&phenomenon=PM2.5&operation=arithmeticMean&window=86400000&format=tidy&columns=boxId,boxName,exposure,height,lat,lon,phenomenon,sensorType,unit"
   ]
  },
  {
   "cell_type": "code",
   "execution_count": 23,
   "id": "d4e6f3bb-e9d6-413f-8c24-6747e047acf3",
   "metadata": {},
   "outputs": [
    {
     "data": {
      "text/html": [
       "<div>\n",
       "<style scoped>\n",
       "    .dataframe tbody tr th:only-of-type {\n",
       "        vertical-align: middle;\n",
       "    }\n",
       "\n",
       "    .dataframe tbody tr th {\n",
       "        vertical-align: top;\n",
       "    }\n",
       "\n",
       "    .dataframe thead th {\n",
       "        text-align: right;\n",
       "    }\n",
       "</style>\n",
       "<table border=\"1\" class=\"dataframe\">\n",
       "  <thead>\n",
       "    <tr style=\"text-align: right;\">\n",
       "      <th></th>\n",
       "      <th>sensorId</th>\n",
       "      <th>boxId</th>\n",
       "      <th>boxName</th>\n",
       "      <th>phenomenon</th>\n",
       "      <th>sensorType</th>\n",
       "      <th>unit</th>\n",
       "      <th>time_start</th>\n",
       "      <th>arithmeticMean_90000000</th>\n",
       "    </tr>\n",
       "  </thead>\n",
       "  <tbody>\n",
       "    <tr>\n",
       "      <th>0</th>\n",
       "      <td>59458624a4ad590011186665</td>\n",
       "      <td>591f578c51d34600116a8ea5</td>\n",
       "      <td>Wetterstation Erpho</td>\n",
       "      <td>PM2.5</td>\n",
       "      <td>SDS 011</td>\n",
       "      <td>µg/m³</td>\n",
       "      <td>2022-01-14T06:00:00.000Z</td>\n",
       "      <td>131.078049</td>\n",
       "    </tr>\n",
       "    <tr>\n",
       "      <th>1</th>\n",
       "      <td>59458624a4ad590011186665</td>\n",
       "      <td>591f578c51d34600116a8ea5</td>\n",
       "      <td>Wetterstation Erpho</td>\n",
       "      <td>PM2.5</td>\n",
       "      <td>SDS 011</td>\n",
       "      <td>µg/m³</td>\n",
       "      <td>2022-01-15T07:00:00.000Z</td>\n",
       "      <td>184.012058</td>\n",
       "    </tr>\n",
       "    <tr>\n",
       "      <th>2</th>\n",
       "      <td>59458624a4ad590011186665</td>\n",
       "      <td>591f578c51d34600116a8ea5</td>\n",
       "      <td>Wetterstation Erpho</td>\n",
       "      <td>PM2.5</td>\n",
       "      <td>SDS 011</td>\n",
       "      <td>µg/m³</td>\n",
       "      <td>2022-01-16T08:00:00.000Z</td>\n",
       "      <td>147.403699</td>\n",
       "    </tr>\n",
       "    <tr>\n",
       "      <th>3</th>\n",
       "      <td>59458624a4ad590011186665</td>\n",
       "      <td>591f578c51d34600116a8ea5</td>\n",
       "      <td>Wetterstation Erpho</td>\n",
       "      <td>PM2.5</td>\n",
       "      <td>SDS 011</td>\n",
       "      <td>µg/m³</td>\n",
       "      <td>2022-01-17T09:00:00.000Z</td>\n",
       "      <td>211.829843</td>\n",
       "    </tr>\n",
       "    <tr>\n",
       "      <th>4</th>\n",
       "      <td>59458624a4ad590011186665</td>\n",
       "      <td>591f578c51d34600116a8ea5</td>\n",
       "      <td>Wetterstation Erpho</td>\n",
       "      <td>PM2.5</td>\n",
       "      <td>SDS 011</td>\n",
       "      <td>µg/m³</td>\n",
       "      <td>2022-01-18T10:00:00.000Z</td>\n",
       "      <td>34.967519</td>\n",
       "    </tr>\n",
       "  </tbody>\n",
       "</table>\n",
       "</div>"
      ],
      "text/plain": [
       "                   sensorId                     boxId              boxName  \\\n",
       "0  59458624a4ad590011186665  591f578c51d34600116a8ea5  Wetterstation Erpho   \n",
       "1  59458624a4ad590011186665  591f578c51d34600116a8ea5  Wetterstation Erpho   \n",
       "2  59458624a4ad590011186665  591f578c51d34600116a8ea5  Wetterstation Erpho   \n",
       "3  59458624a4ad590011186665  591f578c51d34600116a8ea5  Wetterstation Erpho   \n",
       "4  59458624a4ad590011186665  591f578c51d34600116a8ea5  Wetterstation Erpho   \n",
       "\n",
       "  phenomenon sensorType   unit                time_start  \\\n",
       "0      PM2.5    SDS 011  µg/m³  2022-01-14T06:00:00.000Z   \n",
       "1      PM2.5    SDS 011  µg/m³  2022-01-15T07:00:00.000Z   \n",
       "2      PM2.5    SDS 011  µg/m³  2022-01-16T08:00:00.000Z   \n",
       "3      PM2.5    SDS 011  µg/m³  2022-01-17T09:00:00.000Z   \n",
       "4      PM2.5    SDS 011  µg/m³  2022-01-18T10:00:00.000Z   \n",
       "\n",
       "   arithmeticMean_90000000  \n",
       "0               131.078049  \n",
       "1               184.012058  \n",
       "2               147.403699  \n",
       "3               211.829843  \n",
       "4                34.967519  "
      ]
     },
     "execution_count": 23,
     "metadata": {},
     "output_type": "execute_result"
    }
   ],
   "source": [
    "df = pd.read_csv(pull_readings_url)\n",
    "df.head()"
   ]
  },
  {
   "cell_type": "code",
   "execution_count": 24,
   "id": "d22171cb-0561-4a04-b675-cae75bd36539",
   "metadata": {},
   "outputs": [
    {
     "data": {
      "text/plain": [
       "2022-01-14T06:00:00.000Z    3\n",
       "2022-01-15T07:00:00.000Z    3\n",
       "2022-01-16T08:00:00.000Z    3\n",
       "2022-01-17T09:00:00.000Z    3\n",
       "2022-01-18T10:00:00.000Z    3\n",
       "2022-01-19T11:00:00.000Z    3\n",
       "2022-01-20T12:00:00.000Z    3\n",
       "2022-01-21T13:00:00.000Z    3\n",
       "Name: time_start, dtype: int64"
      ]
     },
     "execution_count": 24,
     "metadata": {},
     "output_type": "execute_result"
    }
   ],
   "source": [
    "## Check how many values were received for each day\n",
    "\n",
    "df['time_start'].value_counts()"
   ]
  },
  {
   "cell_type": "code",
   "execution_count": 25,
   "id": "30ed7271-4319-41b7-9db4-6c2dbdd874ca",
   "metadata": {},
   "outputs": [
    {
     "data": {
      "text/plain": [
       "591f578c51d34600116a8ea5    8\n",
       "59ad958fd67eb50011b85f6d    8\n",
       "5750220bed08f9680c6b4154    8\n",
       "Name: boxId, dtype: int64"
      ]
     },
     "execution_count": 25,
     "metadata": {},
     "output_type": "execute_result"
    }
   ],
   "source": [
    "## Check how many senseboxes returned values\n",
    "\n",
    "df['boxId'].value_counts()"
   ]
  },
  {
   "cell_type": "code",
   "execution_count": 26,
   "id": "221fe8af",
   "metadata": {},
   "outputs": [],
   "source": [
    "## Rename columns appropriately\n",
    "\n",
    "df.rename(columns={'time_start': 'day', 'arithmeticMean_90000000': 'value'}, inplace=True)"
   ]
  },
  {
   "cell_type": "code",
   "execution_count": 27,
   "id": "50f2c4ee",
   "metadata": {},
   "outputs": [
    {
     "data": {
      "text/html": [
       "<div>\n",
       "<style scoped>\n",
       "    .dataframe tbody tr th:only-of-type {\n",
       "        vertical-align: middle;\n",
       "    }\n",
       "\n",
       "    .dataframe tbody tr th {\n",
       "        vertical-align: top;\n",
       "    }\n",
       "\n",
       "    .dataframe thead th {\n",
       "        text-align: right;\n",
       "    }\n",
       "</style>\n",
       "<table border=\"1\" class=\"dataframe\">\n",
       "  <thead>\n",
       "    <tr style=\"text-align: right;\">\n",
       "      <th></th>\n",
       "      <th>sensorId_x</th>\n",
       "      <th>lon</th>\n",
       "      <th>lat</th>\n",
       "      <th>sensorId_y</th>\n",
       "      <th>boxId</th>\n",
       "      <th>boxName</th>\n",
       "      <th>phenomenon</th>\n",
       "      <th>sensorType</th>\n",
       "      <th>unit</th>\n",
       "      <th>day</th>\n",
       "      <th>value</th>\n",
       "    </tr>\n",
       "  </thead>\n",
       "  <tbody>\n",
       "    <tr>\n",
       "      <th>0</th>\n",
       "      <td>5750220bed08f9680c6b4154</td>\n",
       "      <td>7.651169</td>\n",
       "      <td>51.956168</td>\n",
       "      <td>5a0d58d69fd3c2001129024f</td>\n",
       "      <td>5750220bed08f9680c6b4154</td>\n",
       "      <td>BalkonBox Mindener Str.</td>\n",
       "      <td>PM2.5</td>\n",
       "      <td>SDS 011</td>\n",
       "      <td>µg/m³</td>\n",
       "      <td>2022-01-14T06:00:00.000Z</td>\n",
       "      <td>26.978200</td>\n",
       "    </tr>\n",
       "    <tr>\n",
       "      <th>1</th>\n",
       "      <td>5750220bed08f9680c6b4154</td>\n",
       "      <td>7.651169</td>\n",
       "      <td>51.956168</td>\n",
       "      <td>5a0d58d69fd3c2001129024f</td>\n",
       "      <td>5750220bed08f9680c6b4154</td>\n",
       "      <td>BalkonBox Mindener Str.</td>\n",
       "      <td>PM2.5</td>\n",
       "      <td>SDS 011</td>\n",
       "      <td>µg/m³</td>\n",
       "      <td>2022-01-15T07:00:00.000Z</td>\n",
       "      <td>24.967154</td>\n",
       "    </tr>\n",
       "    <tr>\n",
       "      <th>2</th>\n",
       "      <td>5750220bed08f9680c6b4154</td>\n",
       "      <td>7.651169</td>\n",
       "      <td>51.956168</td>\n",
       "      <td>5a0d58d69fd3c2001129024f</td>\n",
       "      <td>5750220bed08f9680c6b4154</td>\n",
       "      <td>BalkonBox Mindener Str.</td>\n",
       "      <td>PM2.5</td>\n",
       "      <td>SDS 011</td>\n",
       "      <td>µg/m³</td>\n",
       "      <td>2022-01-16T08:00:00.000Z</td>\n",
       "      <td>23.817200</td>\n",
       "    </tr>\n",
       "    <tr>\n",
       "      <th>3</th>\n",
       "      <td>5750220bed08f9680c6b4154</td>\n",
       "      <td>7.651169</td>\n",
       "      <td>51.956168</td>\n",
       "      <td>5a0d58d69fd3c2001129024f</td>\n",
       "      <td>5750220bed08f9680c6b4154</td>\n",
       "      <td>BalkonBox Mindener Str.</td>\n",
       "      <td>PM2.5</td>\n",
       "      <td>SDS 011</td>\n",
       "      <td>µg/m³</td>\n",
       "      <td>2022-01-17T09:00:00.000Z</td>\n",
       "      <td>7.263709</td>\n",
       "    </tr>\n",
       "    <tr>\n",
       "      <th>4</th>\n",
       "      <td>5750220bed08f9680c6b4154</td>\n",
       "      <td>7.651169</td>\n",
       "      <td>51.956168</td>\n",
       "      <td>5a0d58d69fd3c2001129024f</td>\n",
       "      <td>5750220bed08f9680c6b4154</td>\n",
       "      <td>BalkonBox Mindener Str.</td>\n",
       "      <td>PM2.5</td>\n",
       "      <td>SDS 011</td>\n",
       "      <td>µg/m³</td>\n",
       "      <td>2022-01-18T10:00:00.000Z</td>\n",
       "      <td>15.919987</td>\n",
       "    </tr>\n",
       "  </tbody>\n",
       "</table>\n",
       "</div>"
      ],
      "text/plain": [
       "                 sensorId_x       lon        lat                sensorId_y  \\\n",
       "0  5750220bed08f9680c6b4154  7.651169  51.956168  5a0d58d69fd3c2001129024f   \n",
       "1  5750220bed08f9680c6b4154  7.651169  51.956168  5a0d58d69fd3c2001129024f   \n",
       "2  5750220bed08f9680c6b4154  7.651169  51.956168  5a0d58d69fd3c2001129024f   \n",
       "3  5750220bed08f9680c6b4154  7.651169  51.956168  5a0d58d69fd3c2001129024f   \n",
       "4  5750220bed08f9680c6b4154  7.651169  51.956168  5a0d58d69fd3c2001129024f   \n",
       "\n",
       "                      boxId                  boxName phenomenon sensorType  \\\n",
       "0  5750220bed08f9680c6b4154  BalkonBox Mindener Str.      PM2.5    SDS 011   \n",
       "1  5750220bed08f9680c6b4154  BalkonBox Mindener Str.      PM2.5    SDS 011   \n",
       "2  5750220bed08f9680c6b4154  BalkonBox Mindener Str.      PM2.5    SDS 011   \n",
       "3  5750220bed08f9680c6b4154  BalkonBox Mindener Str.      PM2.5    SDS 011   \n",
       "4  5750220bed08f9680c6b4154  BalkonBox Mindener Str.      PM2.5    SDS 011   \n",
       "\n",
       "    unit                       day      value  \n",
       "0  µg/m³  2022-01-14T06:00:00.000Z  26.978200  \n",
       "1  µg/m³  2022-01-15T07:00:00.000Z  24.967154  \n",
       "2  µg/m³  2022-01-16T08:00:00.000Z  23.817200  \n",
       "3  µg/m³  2022-01-17T09:00:00.000Z   7.263709  \n",
       "4  µg/m³  2022-01-18T10:00:00.000Z  15.919987  "
      ]
     },
     "execution_count": 27,
     "metadata": {},
     "output_type": "execute_result"
    }
   ],
   "source": [
    "## Get location of senseboxes and fetch other senseboxes without values\n",
    "\n",
    "stream_data = sensebox_coords.merge(df, left_on='sensorId', right_on='boxId', how='left')\n",
    "stream_data.head()"
   ]
  },
  {
   "cell_type": "markdown",
   "id": "95a3aee5",
   "metadata": {},
   "source": [
    "Save the file as CSV"
   ]
  },
  {
   "cell_type": "code",
   "execution_count": 28,
   "id": "a802d15e",
   "metadata": {},
   "outputs": [],
   "source": [
    "stream_data.to_csv('../data/sample_multilocation.csv')"
   ]
  },
  {
   "cell_type": "markdown",
   "id": "e4b0c259",
   "metadata": {},
   "source": [
    "### Stream Data Using Kafka"
   ]
  },
  {
   "cell_type": "markdown",
   "id": "3c448c53",
   "metadata": {},
   "source": [
    "Option 1:\n",
    "\n",
    "To stream data you can either open a new **Terminal** and enter the following command:\n",
    "\n",
    "*python src/sendStream.py data/sample_multilocation.csv*"
   ]
  },
  {
   "cell_type": "markdown",
   "id": "a27fc5c0",
   "metadata": {},
   "source": [
    "Option 2:\n",
    "\n",
    "Run Python Command From Jupyter in the following cell"
   ]
  },
  {
   "cell_type": "code",
   "execution_count": 29,
   "id": "27cd52ab",
   "metadata": {},
   "outputs": [
    {
     "name": "stdout",
     "output_type": "stream",
     "text": [
      "Message produced: b'{\"26.9782\": [51.95616769306822, 7.6511693559587, \"2022-01-14T06:00:00.000Z\", \"5750220bed08f9680c6b4154\"]}'\n",
      "Message produced: b'{\"24.967153792623524\": [51.95616769306822, 7.6511693559587, \"2022-01-15T07:00:00.000Z\", \"5750220bed08f9680c6b4154\"]}'\n",
      "Message produced: b'{\"23.817200000000003\": [51.95616769306822, 7.6511693559587, \"2022-01-16T08:00:00.000Z\", \"5750220bed08f9680c6b4154\"]}'\n",
      "Message produced: b'{\"7.263709139426283\": [51.95616769306822, 7.6511693559587, \"2022-01-17T09:00:00.000Z\", \"5750220bed08f9680c6b4154\"]}'\n",
      "Message produced: b'{\"15.919986675549634\": [51.95616769306822, 7.6511693559587, \"2022-01-18T10:00:00.000Z\", \"5750220bed08f9680c6b4154\"]}'\n",
      "Message produced: b'{\"12.40247160988644\": [51.95616769306822, 7.6511693559587, \"2022-01-19T11:00:00.000Z\", \"5750220bed08f9680c6b4154\"]}'\n",
      "Message produced: b'{\"3.4782666666666664\": [51.95616769306822, 7.6511693559587, \"2022-01-20T12:00:00.000Z\", \"5750220bed08f9680c6b4154\"]}'\n",
      "Message produced: b'{\"4.190406395736176\": [51.95616769306822, 7.6511693559587, \"2022-01-21T13:00:00.000Z\", \"5750220bed08f9680c6b4154\"]}'\n",
      "Message produced: b'{\"131.07804878048782\": [51.96422, 7.645218, \"2022-01-14T06:00:00.000Z\", \"591f578c51d34600116a8ea5\"]}'\n",
      "Message produced: b'{\"184.01205813040065\": [51.96422, 7.645218, \"2022-01-15T07:00:00.000Z\", \"591f578c51d34600116a8ea5\"]}'\n",
      "Message produced: b'{\"147.40369933097205\": [51.96422, 7.645218, \"2022-01-16T08:00:00.000Z\", \"591f578c51d34600116a8ea5\"]}'\n",
      "Message produced: b'{\"211.82984251968503\": [51.96422, 7.645218, \"2022-01-17T09:00:00.000Z\", \"591f578c51d34600116a8ea5\"]}'\n",
      "Message produced: b'{\"34.96751867872591\": [51.96422, 7.645218, \"2022-01-18T10:00:00.000Z\", \"591f578c51d34600116a8ea5\"]}'\n",
      "Message produced: b'{\"10.890540007883326\": [51.96422, 7.645218, \"2022-01-19T11:00:00.000Z\", \"591f578c51d34600116a8ea5\"]}'\n",
      "Message produced: b'{\"3.385141509433962\": [51.96422, 7.645218, \"2022-01-20T12:00:00.000Z\", \"591f578c51d34600116a8ea5\"]}'\n",
      "Message produced: b'{\"4.527351436442346\": [51.96422, 7.645218, \"2022-01-21T13:00:00.000Z\", \"591f578c51d34600116a8ea5\"]}'\n",
      "Message produced: b'{\"NaN\": [51.929339, 7.684194, \"nan\", NaN]}'\n",
      "Message produced: b'{\"17.057991360691144\": [51.903004, 7.635283, \"2022-01-14T06:00:00.000Z\", \"59ad958fd67eb50011b85f6d\"]}'\n",
      "Message produced: b'{\"14.429356683345246\": [51.903004, 7.635283, \"2022-01-15T07:00:00.000Z\", \"59ad958fd67eb50011b85f6d\"]}'\n",
      "Message produced: b'{\"16.67953538241601\": [51.903004, 7.635283, \"2022-01-16T08:00:00.000Z\", \"59ad958fd67eb50011b85f6d\"]}'\n",
      "Message produced: b'{\"5.560527838033261\": [51.903004, 7.635283, \"2022-01-17T09:00:00.000Z\", \"59ad958fd67eb50011b85f6d\"]}'\n",
      "Message produced: b'{\"10.72650506512301\": [51.903004, 7.635283, \"2022-01-18T10:00:00.000Z\", \"59ad958fd67eb50011b85f6d\"]}'\n",
      "Message produced: b'{\"8.85082489146165\": [51.903004, 7.635283, \"2022-01-19T11:00:00.000Z\", \"59ad958fd67eb50011b85f6d\"]}'\n",
      "Message produced: b'{\"2.2662319884726227\": [51.903004, 7.635283, \"2022-01-20T12:00:00.000Z\", \"59ad958fd67eb50011b85f6d\"]}'\n",
      "Message produced: b'{\"3.747665427509293\": [51.903004, 7.635283, \"2022-01-21T13:00:00.000Z\", \"59ad958fd67eb50011b85f6d\"]}'\n",
      "Message produced: b'{\"NaN\": [51.946322, 7.62677, \"nan\", NaN]}'\n",
      "Message produced: b'{\"NaN\": [51.953351, 7.641463, \"nan\", NaN]}'\n",
      "Message produced: b'{\"NaN\": [51.960435, 7.641426, \"nan\", NaN]}'\n"
     ]
    }
   ],
   "source": [
    "!python ../src/sendStream.py ../data/sample_multilocation.csv"
   ]
  },
  {
   "cell_type": "markdown",
   "id": "e3b944eb",
   "metadata": {},
   "source": [
    "#### END"
   ]
  }
 ],
 "metadata": {
  "kernelspec": {
   "display_name": "Python 3 (ipykernel)",
   "language": "python",
   "name": "python3"
  },
  "language_info": {
   "codemirror_mode": {
    "name": "ipython",
    "version": 3
   },
   "file_extension": ".py",
   "mimetype": "text/x-python",
   "name": "python",
   "nbconvert_exporter": "python",
   "pygments_lexer": "ipython3",
   "version": "3.9.5"
  }
 },
 "nbformat": 4,
 "nbformat_minor": 5
}
