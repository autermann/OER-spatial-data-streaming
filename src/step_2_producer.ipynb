{
 "cells": [
  {
   "cell_type": "markdown",
   "metadata": {},
   "source": [
    "# KAFKA PRODUCER\n",
    "\n",
    "This Jupyter Notebook will be used as a mock producer file for our Kafka workflow. You can imagine this file as a script inside an IoT device which triggers **for example after every x seconds**. We will use the CSV file generated in the previous step and send each data record as an event."
   ]
  },
  {
   "cell_type": "code",
   "execution_count": null,
   "metadata": {},
   "outputs": [],
   "source": [
    "## Import Libraries\n",
    "import pandas as pd\n",
    "import json\n",
    "import sys\n",
    "from dateutil.parser import parse\n",
    "from confluent_kafka import Producer\n",
    "import socket"
   ]
  },
  {
   "cell_type": "code",
   "execution_count": null,
   "metadata": {},
   "outputs": [],
   "source": [
    "def acked(err, msg):\n",
    "\n",
    "    '''\n",
    "    This function handles callback for Kafka Producer. It handles the error/success messages\n",
    "    '''\n",
    "    \n",
    "    if err is not None:\n",
    "        print(\"Failed to deliver message: %s: %s\" % (str(msg.value()), str(err)))\n",
    "    else:\n",
    "        print(\"Message produced: %s\" % (str(msg.value())))"
   ]
  },
  {
   "cell_type": "markdown",
   "metadata": {},
   "source": [
    "The next section runs in the following order:\n",
    "\n",
    "1. Initialise variables: CSV filepath and topic name\n",
    "2. Topic: Every Kafka message should be associated to a kafka topic, it can be named anything\n",
    "3. conf: Init Kafka server with IP:Port"
   ]
  },
  {
   "cell_type": "code",
   "execution_count": null,
   "metadata": {},
   "outputs": [],
   "source": [
    "topic = \"pm25_stream\"\n",
    "p_key = \"./data/sample_multilocation.csv\""
   ]
  },
  {
   "cell_type": "code",
   "execution_count": null,
   "metadata": {},
   "outputs": [],
   "source": [
    "### START: AVOID MAKING CHANGES ###\n",
    "conf = {'bootstrap.servers': \"kafka:9093\", 'client.id': socket.gethostname()}\n",
    "producer = Producer(conf)\n",
    "### END: AVOID MAKING CHANGES ###"
   ]
  },
  {
   "cell_type": "code",
   "execution_count": null,
   "metadata": {},
   "outputs": [],
   "source": [
    "# Read CSV using Pandas\n",
    "df = pd.read_csv(p_key)"
   ]
  },
  {
   "cell_type": "code",
   "execution_count": null,
   "metadata": {},
   "outputs": [],
   "source": [
    "# Init For Loop for number of records in CSV file\n",
    "for i in range(df.shape[0]): ## df.shape returns dimension of the dataframe (rows, columns)\n",
    "\n",
    "    result = {} ## Init Dict\n",
    "    result[df.loc[i,'value']] = [df.loc[i,'lat'], df.loc[i,'lon'], str(df.loc[i,'day']), df.loc[i,'boxId']]\n",
    "\n",
    "    '''\n",
    "    Format of result JSON:\n",
    "\n",
    "    {\n",
    "        'pm25_value_1': [lat, lon, day, boxId]\n",
    "    }\n",
    "    '''\n",
    "\n",
    "    # Store as JSON as Kafka supports JSON transmission as standard\n",
    "    result = json.dumps(result)\n",
    "    \n",
    "    ## Key is optional, used to categorize messages by partition, in this case all messages get the same partition name. \n",
    "    ## Is Mostly used for scalability \n",
    "\n",
    "    producer.produce(topic, key=p_key, value=result, callback=acked) ## Message is stored in broker memory at this point\n",
    "\n",
    "    ## Complete the sending of message from buffer (broker memory) and get an acknowledgement\n",
    "    producer.flush()"
   ]
  },
  {
   "cell_type": "markdown",
   "metadata": {},
   "source": [
    "# KAFKA CONSUMER\n",
    "\n",
    "To now consume/processs this data you can use the next jupyter notebook: *src/step_3_event_processing.ipynb*"
   ]
  }
 ],
 "metadata": {
  "language_info": {
   "name": "python"
  },
  "orig_nbformat": 4
 },
 "nbformat": 4,
 "nbformat_minor": 2
}
