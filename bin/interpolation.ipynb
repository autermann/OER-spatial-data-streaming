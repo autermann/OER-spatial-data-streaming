{
 "cells": [
  {
   "cell_type": "markdown",
   "metadata": {},
   "source": [
    "# SPATIAL INTERPOLATION\n",
    "\n",
    "This Jupyter Notebook can be used to play around with the interpolation script that we will experiment on the streamed data in the previous step. We will perform two kinds of streaming implementation\n",
    "\n",
    "<!-- - Event Detection : In this example we will check the average of  -->"
   ]
  },
  {
   "cell_type": "code",
   "execution_count": 1,
   "metadata": {},
   "outputs": [],
   "source": [
    "import pandas as pd\n",
    "import json\n",
    "import sys\n",
    "import time\n",
    "import socket\n",
    "from confluent_kafka import Consumer, KafkaError, KafkaException"
   ]
  },
  {
   "cell_type": "code",
   "execution_count": 2,
   "metadata": {},
   "outputs": [],
   "source": [
    "df = pd.DataFrame()\n",
    "\n",
    "## Set topic name as set in sendStream.py\n",
    "topic = \"pm25_stream\""
   ]
  },
  {
   "cell_type": "code",
   "execution_count": 5,
   "metadata": {},
   "outputs": [
    {
     "name": "stderr",
     "output_type": "stream",
     "text": [
      "%3|1661972946.132|FAIL|rdkafka#consumer-3| [thrd:0.0.0.0:9092/bootstrap]: 0.0.0.0:9092/bootstrap: Connect to ipv4#0.0.0.0:9092 failed: Connection refused (after 0ms in state CONNECT)\n",
      "%3|1661972947.131|FAIL|rdkafka#consumer-3| [thrd:0.0.0.0:9092/bootstrap]: 0.0.0.0:9092/bootstrap: Connect to ipv4#0.0.0.0:9092 failed: Connection refused (after 0ms in state CONNECT, 1 identical error(s) suppressed)\n"
     ]
    }
   ],
   "source": [
    "conf = {'bootstrap.servers': '0.0.0.0:9092',\n",
    "        'default.topic.config': {'auto.offset.reset': 'smallest'},\n",
    "        'group.id': socket.gethostname()}\n",
    "### EMD: AVOID MAKING CHANGES ###\n",
    "\n",
    "consumer = Consumer(conf)\n",
    "\n",
    "running = True\n",
    "consumer.subscribe([topic])"
   ]
  },
  {
   "cell_type": "code",
   "execution_count": null,
   "metadata": {},
   "outputs": [],
   "source": []
  },
  {
   "cell_type": "code",
   "execution_count": null,
   "metadata": {},
   "outputs": [],
   "source": [
    "## Import Libraries\n",
    "\n",
    "import geopandas as gpd\n",
    "import pandas as pd\n",
    "import json\n",
    "import numpy as np\n",
    "from functools import partial\n",
    "from geocube.api.core import make_geocube\n",
    "from geocube.rasterize import rasterize_points_griddata\n",
    "import geojson"
   ]
  },
  {
   "cell_type": "code",
   "execution_count": null,
   "metadata": {},
   "outputs": [],
   "source": [
    "## Read the output of the streamed file\n",
    "\n",
    "df = pd.read_csv('../data/streamed_output.csv').drop(['Unnamed: 0'], axis=1)\n",
    "df.head()"
   ]
  },
  {
   "cell_type": "markdown",
   "metadata": {},
   "source": [
    "In the above dataframe, we have data for three different days for each of the 10 locations"
   ]
  },
  {
   "cell_type": "code",
   "execution_count": null,
   "metadata": {},
   "outputs": [],
   "source": [
    "##\n",
    "df['day'].value_counts()"
   ]
  },
  {
   "cell_type": "code",
   "execution_count": null,
   "metadata": {},
   "outputs": [],
   "source": [
    "# Convert Pandas to GeoPandas\n",
    "gdf = gpd.GeoDataFrame(df, geometry=gpd.points_from_xy(df.lon, df.lat))\n",
    "gdf.set_crs(epsg=4326, inplace=True)\n",
    "gdf.to_crs(epsg=3035, inplace=True)\n",
    "gdf.drop(['lon','lat'], axis=1, inplace=True)\n",
    "gdf.head()"
   ]
  },
  {
   "cell_type": "markdown",
   "metadata": {},
   "source": [
    "Plot The Values"
   ]
  },
  {
   "cell_type": "code",
   "execution_count": null,
   "metadata": {},
   "outputs": [],
   "source": [
    "gdf.plot()"
   ]
  },
  {
   "cell_type": "markdown",
   "metadata": {},
   "source": [
    "The library that we use for interpolation does not directly allow interpolation to a Polygon or is a rather complicated approach. To coutner this, a shapefile \"area.geojson\" is provided that provides a simpler rectangular extent around Germany.\n",
    "\n",
    "We first interpolate to this rectangular extent, finally we will crop the boundary of Germany and get a more realistic output"
   ]
  },
  {
   "cell_type": "code",
   "execution_count": null,
   "metadata": {},
   "outputs": [],
   "source": [
    "## Read the rectangular extent\n",
    "\n",
    "with open('data/area.geojson') as f:\n",
    "    gj = geojson.load(f)\n",
    "    \n",
    "geometry = gj['features'][0]['geometry']\n",
    "geometry"
   ]
  },
  {
   "cell_type": "code",
   "execution_count": null,
   "metadata": {},
   "outputs": [],
   "source": [
    "## Plot Germany\n",
    "germany = gpd.read_file('data/germany_simplified.shp')\n",
    "germany.to_crs(epsg=3035, inplace=True)\n",
    "germany.plot()"
   ]
  },
  {
   "cell_type": "code",
   "execution_count": null,
   "metadata": {},
   "outputs": [],
   "source": [
    "## Plot Rectangular Extent\n",
    "gpd.read_file('data/area.geojson').plot()"
   ]
  },
  {
   "cell_type": "markdown",
   "metadata": {},
   "source": [
    "## Interpolation\n",
    "\n",
    "In this course, we will use Geocube to generate an interpolated surface.\n",
    "Note: You can use more sophisticated Libraries as well like \"PyKrige\""
   ]
  },
  {
   "cell_type": "code",
   "execution_count": null,
   "metadata": {},
   "outputs": [],
   "source": [
    "geo_grid_cubic = make_geocube(\n",
    "    gdf,\n",
    "    measurements=[\"value\"],\n",
    "    rasterize_function=partial(rasterize_points_griddata, method=\"linear\", all_touched=True),\n",
    "    interpolate_na_method=\"nearest\",\n",
    "    geom=geometry,\n",
    "    resolution = (-1500,1500) ## Lowering this number will take longer processing time and more memory\n",
    ")"
   ]
  },
  {
   "cell_type": "code",
   "execution_count": null,
   "metadata": {},
   "outputs": [],
   "source": [
    "## Plot the Interpolation\n",
    "geo_grid_cubic.value.plot.imshow()"
   ]
  },
  {
   "cell_type": "code",
   "execution_count": null,
   "metadata": {},
   "outputs": [],
   "source": [
    "## Convert xarray (Geocube) output to a DataFrame\n",
    "\n",
    "output = geo_grid_cubic.to_dataframe().reset_index()\n",
    "output.head()"
   ]
  },
  {
   "cell_type": "code",
   "execution_count": null,
   "metadata": {},
   "outputs": [],
   "source": [
    "## Convert this DataFrame to Geopandas\n",
    "\n",
    "gdf_interpolated = gpd.GeoDataFrame(output, geometry=gpd.points_from_xy(output.x, output.y)).set_crs(epsg=3035)\n",
    "gdf_interpolated['geometry'] = gdf_interpolated.geometry.buffer(0.0001)\n",
    "gdf_interpolated.head()"
   ]
  },
  {
   "cell_type": "code",
   "execution_count": null,
   "metadata": {},
   "outputs": [],
   "source": [
    "gdf_interpolated.shape"
   ]
  },
  {
   "cell_type": "markdown",
   "metadata": {},
   "source": [
    "Now we will perform a spatial join, only the region that intersects with the German shapefile will be retained"
   ]
  },
  {
   "cell_type": "code",
   "execution_count": null,
   "metadata": {},
   "outputs": [],
   "source": [
    "cropped = germany.sjoin(gdf_interpolated, how=\"left\")[['geometry','value']]\n",
    "cropped.shape"
   ]
  },
  {
   "cell_type": "markdown",
   "metadata": {},
   "source": [
    "Save Results"
   ]
  },
  {
   "cell_type": "code",
   "execution_count": null,
   "metadata": {},
   "outputs": [],
   "source": [
    "# cropped.plot('value', cmap='OrRd') \n",
    "## To plot the results, it is recommended to reduce the resolution further down \n",
    "## as it uses a lot of memory and might crash your notebook"
   ]
  },
  {
   "cell_type": "code",
   "execution_count": null,
   "metadata": {},
   "outputs": [],
   "source": [
    "## Export results to a shapefile (More Time Consuming)\n",
    "# cropped.to_file('data/interpolated_cropped.shp', driver='ESRI Shapefile')"
   ]
  },
  {
   "cell_type": "code",
   "execution_count": null,
   "metadata": {},
   "outputs": [],
   "source": [
    "## Export the rectangular interpolation as raster, quicker to process\n",
    "geo_grid_cubic.rio.to_raster(\"data/interpolated_rectangular.tif\")"
   ]
  },
  {
   "cell_type": "markdown",
   "metadata": {},
   "source": [
    "#### END\n"
   ]
  },
  {
   "cell_type": "code",
   "execution_count": null,
   "metadata": {},
   "outputs": [],
   "source": []
  }
 ],
 "metadata": {
  "kernelspec": {
   "display_name": "Python 3 (ipykernel)",
   "language": "python",
   "name": "python3"
  },
  "language_info": {
   "codemirror_mode": {
    "name": "ipython",
    "version": 3
   },
   "file_extension": ".py",
   "mimetype": "text/x-python",
   "name": "python",
   "nbconvert_exporter": "python",
   "pygments_lexer": "ipython3",
   "version": "3.9.5"
  },
  "vscode": {
   "interpreter": {
    "hash": "1b514d23d219a1c0c56ce19fb0e1163f57dbee9d687be3151065536fbd420593"
   }
  }
 },
 "nbformat": 4,
 "nbformat_minor": 2
}
