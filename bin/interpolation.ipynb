{
 "cells": [
  {
   "cell_type": "markdown",
   "metadata": {},
   "source": [
    "# SPATIAL INTERPOLATION\n",
    "\n",
    "This Jupyter Notebook can be used to play around with the interpolation script that we will experiment on the streamed data in the previous step. We will perform two kinds of streaming implementation\n",
    "\n",
    "**- Event Detection:** In this example we will check the average of PM levels over 3 days for each location. If this average exceeds a value of 15, we will then trigger an event/notification for the user. This threshold is defined in the next cell and can be changed\n",
    "\n",
    "**- Spatial Interpolation:** For this section, we will interpolate the PM 2.5 levels to the extent of Germany's shapefile/area for any specific day using simple linear interpolation method"
   ]
  },
  {
   "cell_type": "code",
   "execution_count": 1,
   "metadata": {},
   "outputs": [],
   "source": [
    "pm_threshold = 12"
   ]
  },
  {
   "cell_type": "code",
   "execution_count": 2,
   "metadata": {},
   "outputs": [],
   "source": [
    "## Import Libraries\n",
    "\n",
    "import warnings\n",
    "warnings.filterwarnings('ignore')\n",
    "\n",
    "import geopandas as gpd\n",
    "import json\n",
    "import numpy as np\n",
    "from functools import partial\n",
    "from geocube.api.core import make_geocube\n",
    "from geocube.rasterize import rasterize_points_griddata\n",
    "import geojson\n",
    "import pandas as pd\n",
    "import json\n",
    "import sys\n",
    "import time\n",
    "import socket\n",
    "from confluent_kafka import Consumer, KafkaError, KafkaException, Producer"
   ]
  },
  {
   "cell_type": "markdown",
   "metadata": {},
   "source": [
    "## KAFKA CONSUMER DEFINITION"
   ]
  },
  {
   "cell_type": "code",
   "execution_count": 3,
   "metadata": {},
   "outputs": [],
   "source": [
    "### START: AVOID MAKING CHANGES ###\n",
    "\n",
    "'''\n",
    "Offset decides in what order to consume the message. \"smallest\" means read the first message that was sent at 1st position and then the others.\n",
    "\"largest\" will mean to read the most 'recent' message in 1st position and then others in the same order\n",
    "'''\n",
    "\n",
    "conf = {'bootstrap.servers': 'kafka:9093',\n",
    "        'default.topic.config': {'auto.offset.reset': 'smallest'},\n",
    "        'group.id': socket.gethostname()}\n",
    "\n",
    "### END: AVOID MAKING CHANGES ###"
   ]
  },
  {
   "cell_type": "code",
   "execution_count": 4,
   "metadata": {},
   "outputs": [],
   "source": [
    "## Set topic name as set in sendStream.py\n",
    "topic = \"pm25_stream\"\n",
    "\n",
    "## Kafka streamed data will be stored here\n",
    "df = pd.DataFrame(columns=['lat','lon','value','day'])"
   ]
  },
  {
   "cell_type": "markdown",
   "metadata": {},
   "source": [
    "Initialise the consumer and subscribe to the topic"
   ]
  },
  {
   "cell_type": "code",
   "execution_count": 5,
   "metadata": {},
   "outputs": [],
   "source": [
    "consumer = Consumer(conf)\n",
    "consumer.subscribe([topic])\n",
    "\n",
    "running = True"
   ]
  },
  {
   "cell_type": "markdown",
   "metadata": {},
   "source": [
    "Define functions that will be used for real-time processing"
   ]
  },
  {
   "cell_type": "code",
   "execution_count": 6,
   "metadata": {},
   "outputs": [],
   "source": [
    "def event_notification(df, pm_threshold):\n",
    "    \n",
    "    '''\n",
    "    Function to handle event notifications in real-time.\n",
    "    Checks if the rolling average of PM Levels for 3 days exceeds a certain threshold\n",
    "    '''\n",
    "    \n",
    "    try:\n",
    "                \n",
    "        ## Get rolling average of pm value by lat/lon over last 3 days\n",
    "        rolling_average = df.groupby(['lat','lon']).rolling(3)['value'].mean().reset_index()\n",
    "        rolling_average.dropna(inplace=True)\n",
    "\n",
    "        ## Get maximum value and compare it with threshold\n",
    "        rolling_average_index = rolling_average.nlargest(1, 'value').index[0]\n",
    "\n",
    "        pm_value = rolling_average.loc[rolling_average_index, 'value']\n",
    "\n",
    "        ## Trigger check\n",
    "        if pm_value > pm_threshold:\n",
    "            location = (rolling_average.loc[rolling_average_index, 'lat'], rolling_average.loc[rolling_average_index, 'lon'])\n",
    "\n",
    "            ## Trigger notification\n",
    "            response = event_response(location, round(pm_value,2))\n",
    "            print(response)\n",
    "            \n",
    "        else:\n",
    "            print(\"Message Received\", msg, \" PM 2.5 Levels are safe\")\n",
    "\n",
    "    except:\n",
    "        pass\n",
    "\n",
    "def event_response(location, pm):\n",
    "    return \"!!! WARNING !!! The PM 2.5 levels for the location \",location,\" have exceeded the threshold at the average value of \",pm,\" over last 3 days\"\n",
    "\n",
    "    '''\n",
    "    You can insert an email trigger script after this comment\n",
    "    '''"
   ]
  },
  {
   "cell_type": "markdown",
   "metadata": {},
   "source": [
    "Trigger the Kafka Consumer, the infinite loop will automatically break if no message is received for more than **10 seconds**"
   ]
  },
  {
   "cell_type": "code",
   "execution_count": 7,
   "metadata": {},
   "outputs": [
    {
     "name": "stdout",
     "output_type": "stream",
     "text": [
      "Message Received <cimpl.Message object at 0x7f186b18f8c0>  PM 2.5 Levels are safe\n",
      "Message Received <cimpl.Message object at 0x7f186806c140>  PM 2.5 Levels are safe\n",
      "Message Received <cimpl.Message object at 0x7f186b18fac0>  PM 2.5 Levels are safe\n",
      "Message Received <cimpl.Message object at 0x7f186b18f8c0>  PM 2.5 Levels are safe\n",
      "Message Received <cimpl.Message object at 0x7f186b18fac0>  PM 2.5 Levels are safe\n",
      "('!!! WARNING !!! The PM 2.5 levels for the location ', (48.161591, 11.511011), ' have exceeded the threshold at the average value of ', 12.77, ' over last 3 days')\n",
      "('!!! WARNING !!! The PM 2.5 levels for the location ', (48.161591, 11.511011), ' have exceeded the threshold at the average value of ', 12.77, ' over last 3 days')\n",
      "('!!! WARNING !!! The PM 2.5 levels for the location ', (48.161591, 11.511011), ' have exceeded the threshold at the average value of ', 12.77, ' over last 3 days')\n",
      "('!!! WARNING !!! The PM 2.5 levels for the location ', (50.905215, 6.951178), ' have exceeded the threshold at the average value of ', 15.39, ' over last 3 days')\n",
      "('!!! WARNING !!! The PM 2.5 levels for the location ', (51.50753, 10.27212), ' have exceeded the threshold at the average value of ', 16.27, ' over last 3 days')\n"
     ]
    }
   ],
   "source": [
    "try:\n",
    "    while running:\n",
    "\n",
    "        msg = consumer.poll(timeout=10) # wait 10 seconds before exit. If no messages are received for 10 seconds, consuming will stop \n",
    "        \n",
    "        if msg is None:\n",
    "            break\n",
    "\n",
    "        if msg.error():\n",
    "            if msg.error().code() == KafkaError._PARTITION_EOF:\n",
    "                # End of partition event\n",
    "                sys.stderr.write('%% %s [%d] reached end at offset %d\\n' %\n",
    "                                    (msg.topic(), msg.partition(), msg.offset()))\n",
    "            elif msg.error().code() == KafkaError.UNKNOWN_TOPIC_OR_PART:\n",
    "                sys.stderr.write('Topic unknown, creating %s topic\\n' %\n",
    "                                    (topic))\n",
    "            elif msg.error():\n",
    "                raise KafkaException(msg.error())\n",
    "        else:\n",
    "                        \n",
    "            input = json.loads(msg.value())\n",
    "            key = list(input.keys())[0]\n",
    "            \n",
    "            stream = {\n",
    "                'lat': input[key][0],\n",
    "                'lon': input[key][1],\n",
    "                'day': input[key][2],\n",
    "                'value':  float(key)\n",
    "            }\n",
    "\n",
    "            df = df.append(stream, ignore_index = True)\n",
    "            \n",
    "            ### EVENT NOTIFICATION SECTION: START ###\n",
    "            \n",
    "            event_notification(df, pm_threshold)\n",
    "            \n",
    "            ### EVENT NOTIFICATION SECTION: END ###\n",
    "            \n",
    "        ## Commit enables processing of a message only once, meaning drops any duplicates, however, you may lose messages that\n",
    "        ## were not sent for some failure and will not be re-tried. Removing this command is possible but will require further\n",
    "        ## changes to this script to perform manual de-duplication\n",
    "        consumer.commit()\n",
    "\n",
    "except KeyboardInterrupt:\n",
    "    pass\n",
    "\n",
    "finally:\n",
    "    consumer.close()\n",
    "    \n",
    "    ## Note: Re-running this cell will note pull the data again as it is already pulled and the consumer is closed. You should\n",
    "    ## re-run the 'sendStream.py' file to send the data again and then restart this notebook"
   ]
  },
  {
   "cell_type": "code",
   "execution_count": 8,
   "metadata": {},
   "outputs": [
    {
     "data": {
      "text/html": [
       "<div>\n",
       "<style scoped>\n",
       "    .dataframe tbody tr th:only-of-type {\n",
       "        vertical-align: middle;\n",
       "    }\n",
       "\n",
       "    .dataframe tbody tr th {\n",
       "        vertical-align: top;\n",
       "    }\n",
       "\n",
       "    .dataframe thead th {\n",
       "        text-align: right;\n",
       "    }\n",
       "</style>\n",
       "<table border=\"1\" class=\"dataframe\">\n",
       "  <thead>\n",
       "    <tr style=\"text-align: right;\">\n",
       "      <th></th>\n",
       "      <th>lat</th>\n",
       "      <th>lon</th>\n",
       "      <th>value</th>\n",
       "      <th>day</th>\n",
       "    </tr>\n",
       "  </thead>\n",
       "  <tbody>\n",
       "    <tr>\n",
       "      <th>0</th>\n",
       "      <td>54.750856</td>\n",
       "      <td>9.125586</td>\n",
       "      <td>9.292316</td>\n",
       "      <td>1</td>\n",
       "    </tr>\n",
       "    <tr>\n",
       "      <th>1</th>\n",
       "      <td>53.473352</td>\n",
       "      <td>9.893103</td>\n",
       "      <td>3.009359</td>\n",
       "      <td>1</td>\n",
       "    </tr>\n",
       "    <tr>\n",
       "      <th>2</th>\n",
       "      <td>52.441617</td>\n",
       "      <td>13.417584</td>\n",
       "      <td>9.346951</td>\n",
       "      <td>1</td>\n",
       "    </tr>\n",
       "    <tr>\n",
       "      <th>3</th>\n",
       "      <td>50.958730</td>\n",
       "      <td>11.613320</td>\n",
       "      <td>17.369565</td>\n",
       "      <td>1</td>\n",
       "    </tr>\n",
       "    <tr>\n",
       "      <th>4</th>\n",
       "      <td>49.428931</td>\n",
       "      <td>11.068372</td>\n",
       "      <td>7.866291</td>\n",
       "      <td>1</td>\n",
       "    </tr>\n",
       "  </tbody>\n",
       "</table>\n",
       "</div>"
      ],
      "text/plain": [
       "         lat        lon      value day\n",
       "0  54.750856   9.125586   9.292316   1\n",
       "1  53.473352   9.893103   3.009359   1\n",
       "2  52.441617  13.417584   9.346951   1\n",
       "3  50.958730  11.613320  17.369565   1\n",
       "4  49.428931  11.068372   7.866291   1"
      ]
     },
     "execution_count": 8,
     "metadata": {},
     "output_type": "execute_result"
    }
   ],
   "source": [
    "## Read the output of the streamed file\n",
    "df.head()"
   ]
  },
  {
   "cell_type": "markdown",
   "metadata": {},
   "source": [
    "In the above dataframe, we have data for three different days for each of the 10 locations"
   ]
  },
  {
   "cell_type": "code",
   "execution_count": 9,
   "metadata": {},
   "outputs": [
    {
     "data": {
      "text/plain": [
       "1    10\n",
       "2    10\n",
       "3    10\n",
       "Name: day, dtype: int64"
      ]
     },
     "execution_count": 9,
     "metadata": {},
     "output_type": "execute_result"
    }
   ],
   "source": [
    "## Check how many values are present for each day\n",
    "df['day'].value_counts()"
   ]
  },
  {
   "cell_type": "code",
   "execution_count": 10,
   "metadata": {},
   "outputs": [],
   "source": [
    "## To perform spatial interpolation, we will use data from any specific day\n",
    "df = df[df['day'] == '2']"
   ]
  },
  {
   "cell_type": "code",
   "execution_count": 11,
   "metadata": {},
   "outputs": [
    {
     "data": {
      "text/html": [
       "<div>\n",
       "<style scoped>\n",
       "    .dataframe tbody tr th:only-of-type {\n",
       "        vertical-align: middle;\n",
       "    }\n",
       "\n",
       "    .dataframe tbody tr th {\n",
       "        vertical-align: top;\n",
       "    }\n",
       "\n",
       "    .dataframe thead th {\n",
       "        text-align: right;\n",
       "    }\n",
       "</style>\n",
       "<table border=\"1\" class=\"dataframe\">\n",
       "  <thead>\n",
       "    <tr style=\"text-align: right;\">\n",
       "      <th></th>\n",
       "      <th>value</th>\n",
       "      <th>day</th>\n",
       "      <th>geometry</th>\n",
       "    </tr>\n",
       "  </thead>\n",
       "  <tbody>\n",
       "    <tr>\n",
       "      <th>10</th>\n",
       "      <td>8.0</td>\n",
       "      <td>2</td>\n",
       "      <td>POINT (4264678.872 3516455.342)</td>\n",
       "    </tr>\n",
       "    <tr>\n",
       "      <th>11</th>\n",
       "      <td>14.0</td>\n",
       "      <td>2</td>\n",
       "      <td>POINT (4313901.187 3373954.933)</td>\n",
       "    </tr>\n",
       "    <tr>\n",
       "      <th>12</th>\n",
       "      <td>19.0</td>\n",
       "      <td>2</td>\n",
       "      <td>POINT (4553301.110 3264594.485)</td>\n",
       "    </tr>\n",
       "    <tr>\n",
       "      <th>13</th>\n",
       "      <td>13.0</td>\n",
       "      <td>2</td>\n",
       "      <td>POINT (4434343.599 3095401.291)</td>\n",
       "    </tr>\n",
       "    <tr>\n",
       "      <th>14</th>\n",
       "      <td>19.0</td>\n",
       "      <td>2</td>\n",
       "      <td>POINT (4398513.797 2924567.229)</td>\n",
       "    </tr>\n",
       "  </tbody>\n",
       "</table>\n",
       "</div>"
      ],
      "text/plain": [
       "    value day                         geometry\n",
       "10    8.0   2  POINT (4264678.872 3516455.342)\n",
       "11   14.0   2  POINT (4313901.187 3373954.933)\n",
       "12   19.0   2  POINT (4553301.110 3264594.485)\n",
       "13   13.0   2  POINT (4434343.599 3095401.291)\n",
       "14   19.0   2  POINT (4398513.797 2924567.229)"
      ]
     },
     "execution_count": 11,
     "metadata": {},
     "output_type": "execute_result"
    }
   ],
   "source": [
    "# Convert Pandas to GeoPandas\n",
    "gdf = gpd.GeoDataFrame(df, geometry=gpd.points_from_xy(df.lon, df.lat))\n",
    "gdf.set_crs(epsg=4326, inplace=True)\n",
    "gdf.to_crs(epsg=3035, inplace=True)\n",
    "gdf.drop(['lon','lat'], axis=1, inplace=True)\n",
    "gdf.head()"
   ]
  },
  {
   "cell_type": "markdown",
   "metadata": {},
   "source": [
    "Plot The Values"
   ]
  },
  {
   "cell_type": "code",
   "execution_count": 12,
   "metadata": {},
   "outputs": [
    {
     "data": {
      "text/plain": [
       "<AxesSubplot:>"
      ]
     },
     "execution_count": 12,
     "metadata": {},
     "output_type": "execute_result"
    },
    {
     "data": {
      "image/png": "[encoded data removed]",
      "text/plain": [
       "<Figure size 640x480 with 1 Axes>"
      ]
     },
     "metadata": {},
     "output_type": "display_data"
    }
   ],
   "source": [
    "gdf.plot()"
   ]
  },
  {
   "cell_type": "markdown",
   "metadata": {},
   "source": [
    "The library that we use for interpolation does not directly allow interpolation to a Polygon or is a rather complicated approach. To coutner this, a shapefile \"area.geojson\" is provided that provides a simpler rectangular extent around Germany.\n",
    "\n",
    "We first interpolate to this rectangular extent, finally we will crop the boundary of Germany and get a more realistic output"
   ]
  },
  {
   "cell_type": "code",
   "execution_count": 13,
   "metadata": {},
   "outputs": [
    {
     "data": {
      "text/plain": [
       "{\"coordinates\": [[[2.525436, 56.282503], [16.28127, 56.321305], [15.299506, 46.739752], [4.111352, 46.746634], [2.525436, 56.282503]]], \"type\": \"Polygon\"}"
      ]
     },
     "execution_count": 13,
     "metadata": {},
     "output_type": "execute_result"
    }
   ],
   "source": [
    "## Read the rectangular extent\n",
    "\n",
    "with open('../data/area.geojson') as f:\n",
    "    gj = geojson.load(f)\n",
    "    \n",
    "geometry = gj['features'][0]['geometry']\n",
    "geometry"
   ]
  },
  {
   "cell_type": "code",
   "execution_count": 14,
   "metadata": {},
   "outputs": [
    {
     "data": {
      "text/plain": [
       "<AxesSubplot:>"
      ]
     },
     "execution_count": 14,
     "metadata": {},
     "output_type": "execute_result"
    },
    {
     "data": {
      "image/png": "[encoded data removed]",
      "text/plain": [
       "<Figure size 640x480 with 1 Axes>"
      ]
     },
     "metadata": {},
     "output_type": "display_data"
    }
   ],
   "source": [
    "## Plot Germany\n",
    "germany = gpd.read_file('../data/germany_simplified.shp')\n",
    "germany.to_crs(epsg=3035, inplace=True)\n",
    "germany.plot()"
   ]
  },
  {
   "cell_type": "code",
   "execution_count": 15,
   "metadata": {},
   "outputs": [
    {
     "data": {
      "text/plain": [
       "<AxesSubplot:>"
      ]
     },
     "execution_count": 15,
     "metadata": {},
     "output_type": "execute_result"
    },
    {
     "data": {
      "image/png": "[encoded data removed]",
      "text/plain": [
       "<Figure size 640x480 with 1 Axes>"
      ]
     },
     "metadata": {},
     "output_type": "display_data"
    }
   ],
   "source": [
    "## Plot Rectangular Extent\n",
    "gpd.read_file('../data/area.geojson').plot()"
   ]
  },
  {
   "cell_type": "markdown",
   "metadata": {},
   "source": [
    "## Interpolation\n",
    "\n",
    "In this course, we will use Geocube to generate an interpolated surface.\n",
    "Note: You can use more sophisticated Libraries as well like \"PyKrige\""
   ]
  },
  {
   "cell_type": "code",
   "execution_count": 16,
   "metadata": {},
   "outputs": [],
   "source": [
    "geo_grid_cubic = make_geocube(\n",
    "    gdf,\n",
    "    measurements=[\"value\"],\n",
    "    rasterize_function=partial(rasterize_points_griddata, method=\"linear\", all_touched=True),\n",
    "    interpolate_na_method=\"nearest\",\n",
    "    geom=geometry,\n",
    "    resolution = (-1500,1500) ## Lowering this number will take longer processing time and more memory\n",
    ")"
   ]
  },
  {
   "cell_type": "code",
   "execution_count": 17,
   "metadata": {},
   "outputs": [
    {
     "data": {
      "text/plain": [
       "<matplotlib.image.AxesImage at 0x7f17fb6cf850>"
      ]
     },
     "execution_count": 17,
     "metadata": {},
     "output_type": "execute_result"
    },
    {
     "data": {
      "image/png": "[encoded data removed]",
      "text/plain": [
       "<Figure size 640x480 with 2 Axes>"
      ]
     },
     "metadata": {},
     "output_type": "display_data"
    }
   ],
   "source": [
    "## Plot the Interpolation\n",
    "geo_grid_cubic.value.plot.imshow()"
   ]
  },
  {
   "cell_type": "code",
   "execution_count": 18,
   "metadata": {},
   "outputs": [
    {
     "data": {
      "text/html": [
       "<div>\n",
       "<style scoped>\n",
       "    .dataframe tbody tr th:only-of-type {\n",
       "        vertical-align: middle;\n",
       "    }\n",
       "\n",
       "    .dataframe tbody tr th {\n",
       "        vertical-align: top;\n",
       "    }\n",
       "\n",
       "    .dataframe thead th {\n",
       "        text-align: right;\n",
       "    }\n",
       "</style>\n",
       "<table border=\"1\" class=\"dataframe\">\n",
       "  <thead>\n",
       "    <tr style=\"text-align: right;\">\n",
       "      <th></th>\n",
       "      <th>y</th>\n",
       "      <th>x</th>\n",
       "      <th>spatial_ref</th>\n",
       "      <th>value</th>\n",
       "    </tr>\n",
       "  </thead>\n",
       "  <tbody>\n",
       "    <tr>\n",
       "      <th>0</th>\n",
       "      <td>3710250.0</td>\n",
       "      <td>3858750.0</td>\n",
       "      <td>0</td>\n",
       "      <td>7.994877</td>\n",
       "    </tr>\n",
       "    <tr>\n",
       "      <th>1</th>\n",
       "      <td>3710250.0</td>\n",
       "      <td>3860250.0</td>\n",
       "      <td>0</td>\n",
       "      <td>7.994877</td>\n",
       "    </tr>\n",
       "    <tr>\n",
       "      <th>2</th>\n",
       "      <td>3710250.0</td>\n",
       "      <td>3861750.0</td>\n",
       "      <td>0</td>\n",
       "      <td>7.994877</td>\n",
       "    </tr>\n",
       "    <tr>\n",
       "      <th>3</th>\n",
       "      <td>3710250.0</td>\n",
       "      <td>3863250.0</td>\n",
       "      <td>0</td>\n",
       "      <td>7.994877</td>\n",
       "    </tr>\n",
       "    <tr>\n",
       "      <th>4</th>\n",
       "      <td>3710250.0</td>\n",
       "      <td>3864750.0</td>\n",
       "      <td>0</td>\n",
       "      <td>7.994877</td>\n",
       "    </tr>\n",
       "  </tbody>\n",
       "</table>\n",
       "</div>"
      ],
      "text/plain": [
       "           y          x  spatial_ref     value\n",
       "0  3710250.0  3858750.0            0  7.994877\n",
       "1  3710250.0  3860250.0            0  7.994877\n",
       "2  3710250.0  3861750.0            0  7.994877\n",
       "3  3710250.0  3863250.0            0  7.994877\n",
       "4  3710250.0  3864750.0            0  7.994877"
      ]
     },
     "execution_count": 18,
     "metadata": {},
     "output_type": "execute_result"
    }
   ],
   "source": [
    "## Convert xarray (Geocube) output to a DataFrame\n",
    "\n",
    "output = geo_grid_cubic.to_dataframe().reset_index()\n",
    "output.head()"
   ]
  },
  {
   "cell_type": "code",
   "execution_count": 19,
   "metadata": {},
   "outputs": [
    {
     "data": {
      "text/html": [
       "<div>\n",
       "<style scoped>\n",
       "    .dataframe tbody tr th:only-of-type {\n",
       "        vertical-align: middle;\n",
       "    }\n",
       "\n",
       "    .dataframe tbody tr th {\n",
       "        vertical-align: top;\n",
       "    }\n",
       "\n",
       "    .dataframe thead th {\n",
       "        text-align: right;\n",
       "    }\n",
       "</style>\n",
       "<table border=\"1\" class=\"dataframe\">\n",
       "  <thead>\n",
       "    <tr style=\"text-align: right;\">\n",
       "      <th></th>\n",
       "      <th>y</th>\n",
       "      <th>x</th>\n",
       "      <th>spatial_ref</th>\n",
       "      <th>value</th>\n",
       "      <th>geometry</th>\n",
       "    </tr>\n",
       "  </thead>\n",
       "  <tbody>\n",
       "    <tr>\n",
       "      <th>0</th>\n",
       "      <td>3710250.0</td>\n",
       "      <td>3858750.0</td>\n",
       "      <td>0</td>\n",
       "      <td>7.994877</td>\n",
       "      <td>POLYGON ((3858750.000 3710250.000, 3858750.000...</td>\n",
       "    </tr>\n",
       "    <tr>\n",
       "      <th>1</th>\n",
       "      <td>3710250.0</td>\n",
       "      <td>3860250.0</td>\n",
       "      <td>0</td>\n",
       "      <td>7.994877</td>\n",
       "      <td>POLYGON ((3860250.000 3710250.000, 3860250.000...</td>\n",
       "    </tr>\n",
       "    <tr>\n",
       "      <th>2</th>\n",
       "      <td>3710250.0</td>\n",
       "      <td>3861750.0</td>\n",
       "      <td>0</td>\n",
       "      <td>7.994877</td>\n",
       "      <td>POLYGON ((3861750.000 3710250.000, 3861750.000...</td>\n",
       "    </tr>\n",
       "    <tr>\n",
       "      <th>3</th>\n",
       "      <td>3710250.0</td>\n",
       "      <td>3863250.0</td>\n",
       "      <td>0</td>\n",
       "      <td>7.994877</td>\n",
       "      <td>POLYGON ((3863250.000 3710250.000, 3863250.000...</td>\n",
       "    </tr>\n",
       "    <tr>\n",
       "      <th>4</th>\n",
       "      <td>3710250.0</td>\n",
       "      <td>3864750.0</td>\n",
       "      <td>0</td>\n",
       "      <td>7.994877</td>\n",
       "      <td>POLYGON ((3864750.000 3710250.000, 3864750.000...</td>\n",
       "    </tr>\n",
       "  </tbody>\n",
       "</table>\n",
       "</div>"
      ],
      "text/plain": [
       "           y          x  spatial_ref     value  \\\n",
       "0  3710250.0  3858750.0            0  7.994877   \n",
       "1  3710250.0  3860250.0            0  7.994877   \n",
       "2  3710250.0  3861750.0            0  7.994877   \n",
       "3  3710250.0  3863250.0            0  7.994877   \n",
       "4  3710250.0  3864750.0            0  7.994877   \n",
       "\n",
       "                                            geometry  \n",
       "0  POLYGON ((3858750.000 3710250.000, 3858750.000...  \n",
       "1  POLYGON ((3860250.000 3710250.000, 3860250.000...  \n",
       "2  POLYGON ((3861750.000 3710250.000, 3861750.000...  \n",
       "3  POLYGON ((3863250.000 3710250.000, 3863250.000...  \n",
       "4  POLYGON ((3864750.000 3710250.000, 3864750.000...  "
      ]
     },
     "execution_count": 19,
     "metadata": {},
     "output_type": "execute_result"
    }
   ],
   "source": [
    "## Convert this DataFrame to Geopandas\n",
    "\n",
    "gdf_interpolated = gpd.GeoDataFrame(output, geometry=gpd.points_from_xy(output.x, output.y)).set_crs(epsg=3035)\n",
    "gdf_interpolated['geometry'] = gdf_interpolated.geometry.buffer(0.0001)\n",
    "gdf_interpolated.head()"
   ]
  },
  {
   "cell_type": "code",
   "execution_count": 20,
   "metadata": {},
   "outputs": [
    {
     "data": {
      "text/plain": [
       "(413985, 5)"
      ]
     },
     "execution_count": 20,
     "metadata": {},
     "output_type": "execute_result"
    }
   ],
   "source": [
    "gdf_interpolated.shape"
   ]
  },
  {
   "cell_type": "markdown",
   "metadata": {},
   "source": [
    "Now we will perform a spatial join, only the region that intersects with the German shapefile will be retained"
   ]
  },
  {
   "cell_type": "code",
   "execution_count": 21,
   "metadata": {},
   "outputs": [
    {
     "data": {
      "text/plain": [
       "(158449, 2)"
      ]
     },
     "execution_count": 21,
     "metadata": {},
     "output_type": "execute_result"
    }
   ],
   "source": [
    "cropped = germany.sjoin(gdf_interpolated, how=\"left\")[['geometry','value']]\n",
    "cropped.shape"
   ]
  },
  {
   "cell_type": "markdown",
   "metadata": {},
   "source": [
    "Save Results"
   ]
  },
  {
   "cell_type": "code",
   "execution_count": 22,
   "metadata": {},
   "outputs": [],
   "source": [
    "# cropped.plot('value', cmap='OrRd') \n",
    "## To plot the results, it is recommended to reduce the resolution further down \n",
    "## as it uses a lot of memory and might crash your notebook"
   ]
  },
  {
   "cell_type": "code",
   "execution_count": 23,
   "metadata": {},
   "outputs": [],
   "source": [
    "## Export results to a shapefile (More Time Consuming)\n",
    "# cropped.to_file('data/interpolated_cropped.shp', driver='ESRI Shapefile')"
   ]
  },
  {
   "cell_type": "code",
   "execution_count": 24,
   "metadata": {},
   "outputs": [],
   "source": [
    "## Export the rectangular interpolation as raster, quicker to process\n",
    "geo_grid_cubic.rio.to_raster(\"../data/interpolated_rectangular.tif\")"
   ]
  },
  {
   "cell_type": "markdown",
   "metadata": {},
   "source": [
    "You can use GIS processing tools like QGIS/ArcGIS Pro to crop the `interpolated_rectangular.tif` using `germany_simplified.shp`\n",
    "A pre-generated output is already available in `data/interpolated_cropped.tif`"
   ]
  },
  {
   "cell_type": "markdown",
   "metadata": {},
   "source": [
    "#### END\n"
   ]
  }
 ],
 "metadata": {
  "kernelspec": {
   "display_name": "Python 3 (ipykernel)",
   "language": "python",
   "name": "python3"
  },
  "language_info": {
   "codemirror_mode": {
    "name": "ipython",
    "version": 3
   },
   "file_extension": ".py",
   "mimetype": "text/x-python",
   "name": "python",
   "nbconvert_exporter": "python",
   "pygments_lexer": "ipython3",
   "version": "3.9.5"
  },
  "vscode": {
   "interpreter": {
    "hash": "1b514d23d219a1c0c56ce19fb0e1163f57dbee9d687be3151065536fbd420593"
   }
  }
 },
 "nbformat": 4,
 "nbformat_minor": 2
}
